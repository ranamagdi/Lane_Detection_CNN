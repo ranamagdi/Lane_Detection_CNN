{
 "cells": [
  {
   "cell_type": "markdown",
   "metadata": {},
   "source": [
    "# Doing some Imports"
   ]
  },
  {
   "cell_type": "code",
   "execution_count": 1,
   "metadata": {},
   "outputs": [],
   "source": [
    "import numpy as np\n",
    "import pickle\n",
    "from sklearn.utils import shuffle\n",
    "from sklearn.model_selection import train_test_split\n",
    "# Import necessary items from Keras\n",
    "from keras.models import Sequential\n",
    "from keras.layers import Activation, Dropout, UpSampling2D\n",
    "from keras.layers import Conv2DTranspose, Conv2D, MaxPooling2D,Input, Add, Dense, ZeroPadding2D, BatchNormalization, Flatten, AveragePooling2D,GlobalMaxPooling2D\n",
    "from keras.layers import BatchNormalization\n",
    "from keras.preprocessing.image import ImageDataGenerator\n",
    "from keras import regularizers\n",
    "import cv2"
   ]
  },
  {
   "cell_type": "markdown",
   "metadata": {},
   "source": [
    "## Create your model"
   ]
  },
  {
   "cell_type": "code",
   "execution_count": 2,
   "metadata": {},
   "outputs": [],
   "source": [
    "def create_model(input_shape,Filters):\n",
    "    # TODO: Create the Model\n",
    "    F1,F2,F3,F4 = Filters\n",
    "    model = Sequential()\n",
    "    #Batch normalization\n",
    "    model.add(BatchNormalization(input_shape=input_shape))\n",
    "    #1st convolution\n",
    "    model.add(Conv2D(filters = F1,kernel_size = (3, 3),strides = (1, 1),padding = 'valid',activation = 'relu'))\n",
    "    #2nd convolution\n",
    "    model.add(Conv2D(filters = F2,kernel_size = (3, 3),strides =  (1, 1),padding = 'valid',activation = 'relu'))\n",
    "    #Max pooling\n",
    "    model.add(MaxPooling2D(pool_size =(2, 2)))\n",
    "    #3 convolutions that include dropout\n",
    "    model.add(Conv2D(filters = F2,kernel_size = (3, 3),strides =  (1, 1),padding = 'valid',activation = 'relu'))\n",
    "    model.add(Dropout(0.2))\n",
    "    \n",
    "    model.add(Conv2D(filters = F2,kernel_size = (3, 3),strides = (1, 1),padding = 'valid',activation = 'relu'))\n",
    "    model.add(Dropout(0.2))\n",
    "   \n",
    "    model.add(Conv2D(filters = F3,kernel_size = (3, 3),strides = (1, 1),padding = 'valid',activation = 'relu'))\n",
    "    model.add(Dropout(0.2))\n",
    "    \n",
    "    #Max pooling\n",
    "    model.add(MaxPooling2D(pool_size =(2, 2)))\n",
    "    #2 convs including dropout\n",
    "    model.add(Conv2D(filters = F4,kernel_size = (3, 3),strides =  (1, 1),padding = 'valid',activation = 'relu'))\n",
    "    model.add(Dropout(0.2))\n",
    "    \n",
    "    model.add(Conv2D(filters = F4,kernel_size = (3, 3),strides =  (1, 1),padding = 'valid',activation = 'relu'))\n",
    "    model.add(Dropout(0.2))\n",
    "    #Max pooling\n",
    "    model.add(MaxPooling2D(pool_size=(2,2)))\n",
    "    #Upsampling\n",
    "    model.add(UpSampling2D(size=(2, 2)))\n",
    "    \n",
    "    #2 deconvolution\n",
    "    model.add(Conv2DTranspose(filters = F4,kernel_size = (3, 3),strides =  (1, 1),padding = 'valid',activation = 'relu'))\n",
    "    model.add(Dropout(0.2))\n",
    "    \n",
    "    model.add(Conv2DTranspose(filters = F4,kernel_size = (3, 3),strides =  (1, 1),padding = 'valid',activation = 'relu'))\n",
    "    model.add(Dropout(0.2))\n",
    "    \n",
    "    #Upsampling\n",
    "    model.add(UpSampling2D(size=(2, 2)))\n",
    "    \n",
    "    #3 deconvs\n",
    "    model.add(Conv2DTranspose(filters = F3,kernel_size = (3, 3),strides =  (1, 1),padding = 'valid',activation = 'relu'))\n",
    "    model.add(Dropout(0.2))\n",
    "    \n",
    "    model.add(Conv2DTranspose(filters = F3,kernel_size = (3, 3),strides =  (1, 1),padding = 'valid',activation = 'relu'))\n",
    "    model.add(Dropout(0.2))\n",
    "    \n",
    "    model.add(Conv2DTranspose(filters = F2,kernel_size = (3, 3),strides =  (1, 1),padding = 'valid',activation = 'relu'))\n",
    "    model.add(Dropout(0.2))\n",
    "    \n",
    "    #Upsampling\n",
    "    model.add(UpSampling2D(size=(2, 2)))\n",
    "    #2 deconvs\n",
    "    model.add(Conv2DTranspose(filters = F2,kernel_size = (3, 3),strides =  (1, 1),padding = 'valid',activation = 'relu'))\n",
    "    \n",
    "    model.add(Conv2DTranspose(filters = 1,kernel_size = (3, 3),strides =  (1, 1),padding = 'valid',activation = 'relu'))\n",
    "    \n",
    "    return model"
   ]
  },
  {
   "cell_type": "markdown",
   "metadata": {},
   "source": [
    "## Load the data"
   ]
  },
  {
   "cell_type": "code",
   "execution_count": 3,
   "metadata": {},
   "outputs": [],
   "source": [
    "# Load training images\n",
    "train_images = pickle.load(open(\"C:/Users/vip/Documents/CESS/deep learning/labs/project/Baseline/full_CNN_train.p\", \"rb\" ))\n",
    "\n",
    "# Load image labels\n",
    "labels = pickle.load(open(\"C:/Users/vip/Documents/CESS/deep learning/labs/project/Baseline/full_CNN_labels.p\", \"rb\" ))\n",
    "\n",
    "# change into arrays\n",
    "train_images = np.array(train_images)\n",
    "labels = np.array(labels) \n"
   ]
  },
  {
   "cell_type": "markdown",
   "metadata": {},
   "source": [
    "## Preprocess the data"
   ]
  },
  {
   "cell_type": "code",
   "execution_count": 4,
   "metadata": {},
   "outputs": [],
   "source": [
    "# TODO: Preprocess the images\n",
    "from PIL import Image\n",
    "from skimage import color\n",
    "from tensorflow.keras.wrappers.scikit_learn import KerasClassifier\n",
    "from sklearn.model_selection import RandomizedSearchCV\n",
    "#Normalization\n",
    "labels = labels / 255"
   ]
  },
  {
   "cell_type": "markdown",
   "metadata": {},
   "source": [
    "## Create the train and test splits"
   ]
  },
  {
   "cell_type": "code",
   "execution_count": 5,
   "metadata": {},
   "outputs": [],
   "source": [
    "# Shuffle images along with their labels, then split into training/validation sets\n",
    "train_images, labels = shuffle(train_images, labels)\n",
    "# Test size may be 10% or 20%\n",
    "X_train, X_val, y_train, y_val = train_test_split(train_images, labels, test_size=0.1)\n"
   ]
  },
  {
   "cell_type": "markdown",
   "metadata": {},
   "source": [
    "## Train your model"
   ]
  },
  {
   "cell_type": "code",
   "execution_count": 6,
   "metadata": {},
   "outputs": [],
   "source": [
    "# TODO: Train your model\n",
    "batch_size = 64\n",
    "epochs = 10\n",
    "input_shape = X_train.shape[1:]\n",
    "\n",
    "batch_size1 = 128\n",
    "epochs1 = 15\n",
    "# Create the neural network\n",
    "model = create_model(input_shape,[2,4,8,16])\n",
    "model1 = create_model(input_shape,[2,4,8,16])\n",
    "model2 = create_model(input_shape,[2,4,8,16])\n",
    "model3 = create_model(input_shape,[2,4,8,16])\n",
    "model4 = create_model(input_shape,[2,4,8,16])\n",
    "model5 = create_model(input_shape,[2,4,8,16])\n",
    "datagen = ImageDataGenerator(channel_shift_range=0.2)\n",
    "datagen.fit(X_train)"
   ]
  },
  {
   "cell_type": "code",
   "execution_count": 7,
   "metadata": {},
   "outputs": [],
   "source": [
    "from tensorflow import keras\n",
    "optimizer = keras.optimizers.Adam(learning_rate=0.001)\n",
    "optimizer1 = keras.optimizers.SGD(learning_rate=0.01,momentum= 0.5)\n",
    "optimizer2 = keras.optimizers.Adam(learning_rate = 1e-3)"
   ]
  },
  {
   "cell_type": "code",
   "execution_count": 11,
   "metadata": {},
   "outputs": [
    {
     "name": "stderr",
     "output_type": "stream",
     "text": [
      "C:\\Users\\alaam\\AppData\\Local\\Programs\\Python\\Python39\\lib\\site-packages\\keras\\engine\\training.py:1972: UserWarning: `Model.fit_generator` is deprecated and will be removed in a future version. Please use `Model.fit`, which supports generators.\n",
      "  warnings.warn('`Model.fit_generator` is deprecated and '\n"
     ]
    },
    {
     "name": "stdout",
     "output_type": "stream",
     "text": [
      "Epoch 1/10\n",
      "179/179 [==============================] - 198s 1s/step - loss: 0.0606 - accuracy: 0.9016 - val_loss: 0.0532 - val_accuracy: 0.8731\n",
      "Epoch 2/10\n",
      "179/179 [==============================] - 190s 1s/step - loss: 0.0230 - accuracy: 0.9464 - val_loss: 0.0241 - val_accuracy: 0.9466\n",
      "Epoch 3/10\n",
      "179/179 [==============================] - 194s 1s/step - loss: 0.0183 - accuracy: 0.9504 - val_loss: 0.0189 - val_accuracy: 0.9515\n",
      "Epoch 4/10\n",
      "179/179 [==============================] - 197s 1s/step - loss: 0.0159 - accuracy: 0.9519 - val_loss: 0.0161 - val_accuracy: 0.9528\n",
      "Epoch 5/10\n",
      "179/179 [==============================] - 199s 1s/step - loss: 0.0143 - accuracy: 0.9530 - val_loss: 0.0138 - val_accuracy: 0.9548\n",
      "Epoch 6/10\n",
      "179/179 [==============================] - 235s 1s/step - loss: 0.0134 - accuracy: 0.9538 - val_loss: 0.0150 - val_accuracy: 0.9541\n",
      "Epoch 7/10\n",
      "179/179 [==============================] - 213s 1s/step - loss: 0.0127 - accuracy: 0.9543 - val_loss: 0.0124 - val_accuracy: 0.9556\n",
      "Epoch 8/10\n",
      "179/179 [==============================] - 216s 1s/step - loss: 0.0122 - accuracy: 0.9547 - val_loss: 0.0122 - val_accuracy: 0.9561\n",
      "Epoch 9/10\n",
      "179/179 [==============================] - 204s 1s/step - loss: 0.0119 - accuracy: 0.9549 - val_loss: 0.0115 - val_accuracy: 0.9565\n",
      "Epoch 10/10\n",
      "179/179 [==============================] - 203s 1s/step - loss: 0.0116 - accuracy: 0.9552 - val_loss: 0.0112 - val_accuracy: 0.9562\n"
     ]
    },
    {
     "data": {
      "text/plain": [
       "<keras.callbacks.History at 0x1c57e71b730>"
      ]
     },
     "execution_count": 11,
     "metadata": {},
     "output_type": "execute_result"
    }
   ],
   "source": [
    "model.compile(optimizer=optimizer, loss='mean_squared_error', metrics = ['accuracy']) \n",
    "model.fit_generator(datagen.flow(X_train, y_train, batch_size=batch_size), steps_per_epoch=len(X_train)/batch_size,\n",
    "    epochs=epochs, verbose=1,validation_data=(X_val, y_val))"
   ]
  },
  {
   "cell_type": "code",
   "execution_count": 12,
   "metadata": {},
   "outputs": [
    {
     "name": "stdout",
     "output_type": "stream",
     "text": [
      "Epoch 1/10\n",
      "179/179 [==============================] - 774s 4s/step - loss: 0.1284 - accuracy: 0.8289 - val_loss: 0.1202 - val_accuracy: 0.8301\n",
      "Epoch 2/10\n",
      "179/179 [==============================] - 490s 3s/step - loss: 0.1100 - accuracy: 0.8289 - val_loss: 0.0918 - val_accuracy: 0.8301\n",
      "Epoch 3/10\n",
      "179/179 [==============================] - 246s 1s/step - loss: 0.0904 - accuracy: 0.8361 - val_loss: 0.0786 - val_accuracy: 0.8584\n",
      "Epoch 4/10\n",
      "179/179 [==============================] - 193s 1s/step - loss: 0.0806 - accuracy: 0.8523 - val_loss: 0.0723 - val_accuracy: 0.8724\n",
      "Epoch 5/10\n",
      "179/179 [==============================] - 189s 1s/step - loss: 0.0746 - accuracy: 0.8649 - val_loss: 0.0682 - val_accuracy: 0.8835\n",
      "Epoch 6/10\n",
      "179/179 [==============================] - 194s 1s/step - loss: 0.0701 - accuracy: 0.8745 - val_loss: 0.0646 - val_accuracy: 0.8890\n",
      "Epoch 7/10\n",
      "179/179 [==============================] - 192s 1s/step - loss: 0.0663 - accuracy: 0.8826 - val_loss: 0.0605 - val_accuracy: 0.8947\n",
      "Epoch 8/10\n",
      "179/179 [==============================] - 244s 1s/step - loss: 0.0627 - accuracy: 0.8900 - val_loss: 0.0556 - val_accuracy: 0.9041\n",
      "Epoch 9/10\n",
      "179/179 [==============================] - 253s 1s/step - loss: 0.0590 - accuracy: 0.8972 - val_loss: 0.0562 - val_accuracy: 0.9018\n",
      "Epoch 10/10\n",
      "179/179 [==============================] - 249s 1s/step - loss: 0.0554 - accuracy: 0.9035 - val_loss: 0.0567 - val_accuracy: 0.9012\n"
     ]
    },
    {
     "data": {
      "text/plain": [
       "<keras.callbacks.History at 0x1c57fa422b0>"
      ]
     },
     "execution_count": 12,
     "metadata": {},
     "output_type": "execute_result"
    }
   ],
   "source": [
    "model1.compile(optimizer=optimizer1, loss='mean_squared_error', metrics = ['accuracy']) \n",
    "model1.fit_generator(datagen.flow(X_train, y_train, batch_size=batch_size), steps_per_epoch=len(X_train)/batch_size,\n",
    "    epochs=epochs, verbose=1, validation_data=(X_val, y_val))"
   ]
  },
  {
   "cell_type": "code",
   "execution_count": 19,
   "metadata": {},
   "outputs": [
    {
     "name": "stdout",
     "output_type": "stream",
     "text": [
      "Epoch 1/10\n",
      "179/179 [==============================] - 593s 3s/step - loss: 0.0520 - accuracy: 0.9052 - val_loss: 0.0547 - val_accuracy: 0.9086\n",
      "Epoch 2/10\n",
      "179/179 [==============================] - 114s 634ms/step - loss: 0.0519 - accuracy: 0.9055 - val_loss: 0.0547 - val_accuracy: 0.9086\n",
      "Epoch 3/10\n",
      "179/179 [==============================] - 90s 501ms/step - loss: 0.0519 - accuracy: 0.9054 - val_loss: 0.0547 - val_accuracy: 0.9086\n",
      "Epoch 4/10\n",
      "179/179 [==============================] - 83s 460ms/step - loss: 0.0520 - accuracy: 0.9052 - val_loss: 0.0547 - val_accuracy: 0.9086\n",
      "Epoch 5/10\n",
      "179/179 [==============================] - 82s 455ms/step - loss: 0.0519 - accuracy: 0.9052 - val_loss: 0.0547 - val_accuracy: 0.9086\n",
      "Epoch 6/10\n",
      "179/179 [==============================] - 83s 464ms/step - loss: 0.0519 - accuracy: 0.9053 - val_loss: 0.0547 - val_accuracy: 0.9086\n",
      "Epoch 7/10\n",
      "179/179 [==============================] - 86s 477ms/step - loss: 0.0519 - accuracy: 0.9053 - val_loss: 0.0547 - val_accuracy: 0.9086\n",
      "Epoch 8/10\n",
      "179/179 [==============================] - 86s 481ms/step - loss: 0.0519 - accuracy: 0.9054 - val_loss: 0.0547 - val_accuracy: 0.9086\n",
      "Epoch 9/10\n",
      "179/179 [==============================] - 87s 484ms/step - loss: 0.0520 - accuracy: 0.9051 - val_loss: 0.0547 - val_accuracy: 0.9086\n",
      "Epoch 10/10\n",
      "179/179 [==============================] - 86s 479ms/step - loss: 0.0519 - accuracy: 0.9052 - val_loss: 0.0547 - val_accuracy: 0.9086\n"
     ]
    },
    {
     "data": {
      "text/plain": [
       "<keras.callbacks.History at 0x1c583db8ac0>"
      ]
     },
     "execution_count": 19,
     "metadata": {},
     "output_type": "execute_result"
    }
   ],
   "source": [
    "model2.compile(optimizer=optimizer2, loss='mean_squared_error', metrics = ['accuracy']) \n",
    "model2.fit_generator(datagen.flow(X_train, y_train, batch_size=batch_size), steps_per_epoch=len(X_train)/batch_size,\n",
    "    epochs=epochs, verbose=1, validation_data=(X_val, y_val))"
   ]
  },
  {
   "cell_type": "code",
   "execution_count": 14,
   "metadata": {},
   "outputs": [
    {
     "name": "stdout",
     "output_type": "stream",
     "text": [
      "Epoch 1/15\n",
      "89/89 [==============================] - 806s 9s/step - loss: 0.0533 - accuracy: 0.9067 - val_loss: 0.0257 - val_accuracy: 0.9428\n",
      "Epoch 2/15\n",
      "89/89 [==============================] - 185s 2s/step - loss: 0.0208 - accuracy: 0.9478 - val_loss: 0.0163 - val_accuracy: 0.9530\n",
      "Epoch 3/15\n",
      "89/89 [==============================] - 181s 2s/step - loss: 0.0168 - accuracy: 0.9511 - val_loss: 0.0140 - val_accuracy: 0.9531\n",
      "Epoch 4/15\n",
      "89/89 [==============================] - 180s 2s/step - loss: 0.0152 - accuracy: 0.9520 - val_loss: 0.0125 - val_accuracy: 0.9542\n",
      "Epoch 5/15\n",
      "89/89 [==============================] - 180s 2s/step - loss: 0.0143 - accuracy: 0.9526 - val_loss: 0.0117 - val_accuracy: 0.9548\n",
      "Epoch 6/15\n",
      "89/89 [==============================] - 183s 2s/step - loss: 0.0135 - accuracy: 0.9531 - val_loss: 0.0112 - val_accuracy: 0.9553\n",
      "Epoch 7/15\n",
      "89/89 [==============================] - 204s 2s/step - loss: 0.0129 - accuracy: 0.9535 - val_loss: 0.0107 - val_accuracy: 0.9556\n",
      "Epoch 8/15\n",
      "89/89 [==============================] - 199s 2s/step - loss: 0.0124 - accuracy: 0.9539 - val_loss: 0.0104 - val_accuracy: 0.9560\n",
      "Epoch 9/15\n",
      "89/89 [==============================] - 192s 2s/step - loss: 0.0120 - accuracy: 0.9542 - val_loss: 0.0098 - val_accuracy: 0.9563\n",
      "Epoch 10/15\n",
      "89/89 [==============================] - 513s 6s/step - loss: 0.0117 - accuracy: 0.9545 - val_loss: 0.0096 - val_accuracy: 0.9565\n",
      "Epoch 11/15\n",
      "89/89 [==============================] - 485s 5s/step - loss: 0.0114 - accuracy: 0.9547 - val_loss: 0.0095 - val_accuracy: 0.9566\n",
      "Epoch 12/15\n",
      "89/89 [==============================] - 195s 2s/step - loss: 0.0111 - accuracy: 0.9549 - val_loss: 0.0092 - val_accuracy: 0.9568\n",
      "Epoch 13/15\n",
      "89/89 [==============================] - 191s 2s/step - loss: 0.0109 - accuracy: 0.9551 - val_loss: 0.0091 - val_accuracy: 0.9569\n",
      "Epoch 14/15\n",
      "89/89 [==============================] - 193s 2s/step - loss: 0.0108 - accuracy: 0.9552 - val_loss: 0.0091 - val_accuracy: 0.9569\n",
      "Epoch 15/15\n",
      "89/89 [==============================] - 192s 2s/step - loss: 0.0106 - accuracy: 0.9553 - val_loss: 0.0091 - val_accuracy: 0.9569\n"
     ]
    },
    {
     "data": {
      "text/plain": [
       "<keras.callbacks.History at 0x1c587ef5520>"
      ]
     },
     "execution_count": 14,
     "metadata": {},
     "output_type": "execute_result"
    }
   ],
   "source": [
    "model3.compile(optimizer=optimizer, loss='mean_squared_error', metrics = ['accuracy']) \n",
    "model3.fit_generator(datagen.flow(X_train, y_train, batch_size=batch_size1), steps_per_epoch=len(X_train)/batch_size1,\n",
    "    epochs=epochs1, verbose=1, validation_data=(X_val, y_val))"
   ]
  },
  {
   "cell_type": "code",
   "execution_count": 8,
   "metadata": {},
   "outputs": [
    {
     "name": "stderr",
     "output_type": "stream",
     "text": [
      "C:\\Users\\vip\\anaconda3\\lib\\site-packages\\keras\\engine\\training.py:1972: UserWarning: `Model.fit_generator` is deprecated and will be removed in a future version. Please use `Model.fit`, which supports generators.\n",
      "  warnings.warn('`Model.fit_generator` is deprecated and '\n"
     ]
    },
    {
     "name": "stdout",
     "output_type": "stream",
     "text": [
      "Epoch 1/10\n",
      "179/179 [==============================] - 527s 3s/step - loss: 0.0578 - accuracy: 0.9020 - val_loss: 0.0316 - val_accuracy: 0.9409\n",
      "Epoch 2/10\n",
      "179/179 [==============================] - 243s 1s/step - loss: 0.0216 - accuracy: 0.9471 - val_loss: 0.0236 - val_accuracy: 0.9447\n",
      "Epoch 3/10\n",
      "179/179 [==============================] - 250s 1s/step - loss: 0.0171 - accuracy: 0.9504 - val_loss: 0.0182 - val_accuracy: 0.9488\n",
      "Epoch 4/10\n",
      "179/179 [==============================] - 238s 1s/step - loss: 0.0152 - accuracy: 0.9515 - val_loss: 0.0156 - val_accuracy: 0.9508\n",
      "Epoch 5/10\n",
      "179/179 [==============================] - 224s 1s/step - loss: 0.0140 - accuracy: 0.9524 - val_loss: 0.0119 - val_accuracy: 0.9542\n",
      "Epoch 6/10\n",
      "179/179 [==============================] - 224s 1s/step - loss: 0.0130 - accuracy: 0.9532 - val_loss: 0.0115 - val_accuracy: 0.9545\n",
      "Epoch 7/10\n",
      "179/179 [==============================] - 226s 1s/step - loss: 0.0123 - accuracy: 0.9538 - val_loss: 0.0109 - val_accuracy: 0.9549\n",
      "Epoch 8/10\n",
      "179/179 [==============================] - 227s 1s/step - loss: 0.0118 - accuracy: 0.9542 - val_loss: 0.0109 - val_accuracy: 0.9550\n",
      "Epoch 9/10\n",
      "179/179 [==============================] - 244s 1s/step - loss: 0.0113 - accuracy: 0.9546 - val_loss: 0.0100 - val_accuracy: 0.9558\n",
      "Epoch 10/10\n",
      "179/179 [==============================] - 255s 1s/step - loss: 0.0109 - accuracy: 0.9550 - val_loss: 0.0097 - val_accuracy: 0.9560\n"
     ]
    },
    {
     "data": {
      "text/plain": [
       "<keras.callbacks.History at 0x20b248fceb0>"
      ]
     },
     "execution_count": 8,
     "metadata": {},
     "output_type": "execute_result"
    }
   ],
   "source": [
    "model4.compile(optimizer='Adam', loss='mean_squared_error', metrics = ['accuracy']) \n",
    "model4.fit_generator(datagen.flow(X_train, y_train, batch_size=batch_size), steps_per_epoch=len(X_train)/batch_size,\n",
    "    epochs=epochs, verbose=1,validation_data=(X_val, y_val))"
   ]
  },
  {
   "cell_type": "code",
   "execution_count": 9,
   "metadata": {},
   "outputs": [
    {
     "name": "stderr",
     "output_type": "stream",
     "text": [
      "C:\\Users\\vip\\anaconda3\\lib\\site-packages\\keras\\engine\\training.py:1972: UserWarning: `Model.fit_generator` is deprecated and will be removed in a future version. Please use `Model.fit`, which supports generators.\n",
      "  warnings.warn('`Model.fit_generator` is deprecated and '\n"
     ]
    },
    {
     "name": "stdout",
     "output_type": "stream",
     "text": [
      "Epoch 1/20\n",
      "89/89 [==============================] - 575s 5s/step - loss: 0.0852 - accuracy: 0.8682 - val_loss: 0.0646 - val_accuracy: 0.8604\n",
      "Epoch 2/20\n",
      "89/89 [==============================] - 232s 3s/step - loss: 0.0410 - accuracy: 0.9226 - val_loss: 0.0506 - val_accuracy: 0.9128\n",
      "Epoch 3/20\n",
      "89/89 [==============================] - 229s 3s/step - loss: 0.0281 - accuracy: 0.9405 - val_loss: 0.0374 - val_accuracy: 0.9321\n",
      "Epoch 4/20\n",
      "89/89 [==============================] - 225s 3s/step - loss: 0.0222 - accuracy: 0.9468 - val_loss: 0.0286 - val_accuracy: 0.9419\n",
      "Epoch 5/20\n",
      "89/89 [==============================] - 224s 2s/step - loss: 0.0195 - accuracy: 0.9492 - val_loss: 0.0262 - val_accuracy: 0.9442\n",
      "Epoch 6/20\n",
      "89/89 [==============================] - 226s 3s/step - loss: 0.0180 - accuracy: 0.9504 - val_loss: 0.0236 - val_accuracy: 0.9464\n",
      "Epoch 7/20\n",
      "89/89 [==============================] - 229s 3s/step - loss: 0.0170 - accuracy: 0.9513 - val_loss: 0.0227 - val_accuracy: 0.9469\n",
      "Epoch 8/20\n",
      "89/89 [==============================] - 240s 3s/step - loss: 0.0161 - accuracy: 0.9520 - val_loss: 0.0205 - val_accuracy: 0.9492\n",
      "Epoch 9/20\n",
      "89/89 [==============================] - 225s 3s/step - loss: 0.0157 - accuracy: 0.9523 - val_loss: 0.0209 - val_accuracy: 0.9495\n",
      "Epoch 10/20\n",
      "89/89 [==============================] - 225s 3s/step - loss: 0.0151 - accuracy: 0.9529 - val_loss: 0.0199 - val_accuracy: 0.9503\n",
      "Epoch 11/20\n",
      "89/89 [==============================] - 236s 3s/step - loss: 0.0147 - accuracy: 0.9532 - val_loss: 0.0190 - val_accuracy: 0.9514\n",
      "Epoch 12/20\n",
      "89/89 [==============================] - 236s 3s/step - loss: 0.0143 - accuracy: 0.9536 - val_loss: 0.0212 - val_accuracy: 0.9496\n",
      "Epoch 13/20\n",
      "89/89 [==============================] - 234s 3s/step - loss: 0.0140 - accuracy: 0.9538 - val_loss: 0.0195 - val_accuracy: 0.9511\n",
      "Epoch 14/20\n",
      "89/89 [==============================] - 231s 3s/step - loss: 0.0137 - accuracy: 0.9540 - val_loss: 0.0196 - val_accuracy: 0.9511\n",
      "Epoch 15/20\n",
      "89/89 [==============================] - 233s 3s/step - loss: 0.0134 - accuracy: 0.9543 - val_loss: 0.0179 - val_accuracy: 0.9523\n",
      "Epoch 16/20\n",
      "89/89 [==============================] - 215s 2s/step - loss: 0.0131 - accuracy: 0.9545 - val_loss: 0.0201 - val_accuracy: 0.9502\n",
      "Epoch 17/20\n",
      "89/89 [==============================] - 215s 2s/step - loss: 0.0128 - accuracy: 0.9547 - val_loss: 0.0197 - val_accuracy: 0.9504\n",
      "Epoch 18/20\n",
      "89/89 [==============================] - 216s 2s/step - loss: 0.0126 - accuracy: 0.9548 - val_loss: 0.0168 - val_accuracy: 0.9534\n",
      "Epoch 19/20\n",
      "89/89 [==============================] - 220s 2s/step - loss: 0.0122 - accuracy: 0.9552 - val_loss: 0.0183 - val_accuracy: 0.9519\n",
      "Epoch 20/20\n",
      "89/89 [==============================] - 227s 3s/step - loss: 0.0121 - accuracy: 0.9552 - val_loss: 0.0193 - val_accuracy: 0.9506\n"
     ]
    },
    {
     "data": {
      "text/plain": [
       "<keras.callbacks.History at 0x20b29ae9b80>"
      ]
     },
     "execution_count": 9,
     "metadata": {},
     "output_type": "execute_result"
    }
   ],
   "source": [
    "model5.compile(optimizer='Adam', loss='mean_squared_error', metrics = ['accuracy']) \n",
    "model5.fit_generator(datagen.flow(X_train, y_train, batch_size=batch_size1), steps_per_epoch=len(X_train)/batch_size1,\n",
    "    epochs=20, verbose=1,validation_data=(X_val, y_val))"
   ]
  },
  {
   "cell_type": "markdown",
   "metadata": {},
   "source": [
    "## Save your model"
   ]
  },
  {
   "cell_type": "code",
   "execution_count": 15,
   "metadata": {
    "scrolled": true
   },
   "outputs": [
    {
     "name": "stdout",
     "output_type": "stream",
     "text": [
      "Model: \"sequential\"\n",
      "_________________________________________________________________\n",
      "Layer (type)                 Output Shape              Param #   \n",
      "=================================================================\n",
      "batch_normalization (BatchNo (None, 80, 160, 3)        12        \n",
      "_________________________________________________________________\n",
      "conv2d (Conv2D)              (None, 78, 158, 2)        56        \n",
      "_________________________________________________________________\n",
      "conv2d_1 (Conv2D)            (None, 76, 156, 4)        76        \n",
      "_________________________________________________________________\n",
      "max_pooling2d (MaxPooling2D) (None, 38, 78, 4)         0         \n",
      "_________________________________________________________________\n",
      "conv2d_2 (Conv2D)            (None, 36, 76, 4)         148       \n",
      "_________________________________________________________________\n",
      "dropout (Dropout)            (None, 36, 76, 4)         0         \n",
      "_________________________________________________________________\n",
      "conv2d_3 (Conv2D)            (None, 34, 74, 4)         148       \n",
      "_________________________________________________________________\n",
      "dropout_1 (Dropout)          (None, 34, 74, 4)         0         \n",
      "_________________________________________________________________\n",
      "conv2d_4 (Conv2D)            (None, 32, 72, 8)         296       \n",
      "_________________________________________________________________\n",
      "dropout_2 (Dropout)          (None, 32, 72, 8)         0         \n",
      "_________________________________________________________________\n",
      "max_pooling2d_1 (MaxPooling2 (None, 16, 36, 8)         0         \n",
      "_________________________________________________________________\n",
      "conv2d_5 (Conv2D)            (None, 14, 34, 16)        1168      \n",
      "_________________________________________________________________\n",
      "dropout_3 (Dropout)          (None, 14, 34, 16)        0         \n",
      "_________________________________________________________________\n",
      "conv2d_6 (Conv2D)            (None, 12, 32, 16)        2320      \n",
      "_________________________________________________________________\n",
      "dropout_4 (Dropout)          (None, 12, 32, 16)        0         \n",
      "_________________________________________________________________\n",
      "max_pooling2d_2 (MaxPooling2 (None, 6, 16, 16)         0         \n",
      "_________________________________________________________________\n",
      "up_sampling2d (UpSampling2D) (None, 12, 32, 16)        0         \n",
      "_________________________________________________________________\n",
      "conv2d_transpose (Conv2DTran (None, 14, 34, 16)        2320      \n",
      "_________________________________________________________________\n",
      "dropout_5 (Dropout)          (None, 14, 34, 16)        0         \n",
      "_________________________________________________________________\n",
      "conv2d_transpose_1 (Conv2DTr (None, 16, 36, 16)        2320      \n",
      "_________________________________________________________________\n",
      "dropout_6 (Dropout)          (None, 16, 36, 16)        0         \n",
      "_________________________________________________________________\n",
      "up_sampling2d_1 (UpSampling2 (None, 32, 72, 16)        0         \n",
      "_________________________________________________________________\n",
      "conv2d_transpose_2 (Conv2DTr (None, 34, 74, 8)         1160      \n",
      "_________________________________________________________________\n",
      "dropout_7 (Dropout)          (None, 34, 74, 8)         0         \n",
      "_________________________________________________________________\n",
      "conv2d_transpose_3 (Conv2DTr (None, 36, 76, 8)         584       \n",
      "_________________________________________________________________\n",
      "dropout_8 (Dropout)          (None, 36, 76, 8)         0         \n",
      "_________________________________________________________________\n",
      "conv2d_transpose_4 (Conv2DTr (None, 38, 78, 4)         292       \n",
      "_________________________________________________________________\n",
      "dropout_9 (Dropout)          (None, 38, 78, 4)         0         \n",
      "_________________________________________________________________\n",
      "up_sampling2d_2 (UpSampling2 (None, 76, 156, 4)        0         \n",
      "_________________________________________________________________\n",
      "conv2d_transpose_5 (Conv2DTr (None, 78, 158, 4)        148       \n",
      "_________________________________________________________________\n",
      "conv2d_transpose_6 (Conv2DTr (None, 80, 160, 1)        37        \n",
      "=================================================================\n",
      "Total params: 11,085\n",
      "Trainable params: 0\n",
      "Non-trainable params: 11,085\n",
      "_________________________________________________________________\n"
     ]
    }
   ],
   "source": [
    "# Save model architecture and weights\n",
    "from tensorflow import keras\n",
    "model.trainable = False\n",
    "model.compile(optimizer=optimizer, loss=\"mean_squared_error\",metrics =['accuracy'])\n",
    "model.save('full_CNN_model.h5')\n",
    "\n",
    "# Show summary of model\n",
    "model.summary()"
   ]
  },
  {
   "cell_type": "code",
   "execution_count": 16,
   "metadata": {},
   "outputs": [
    {
     "name": "stdout",
     "output_type": "stream",
     "text": [
      "Model: \"sequential_1\"\n",
      "_________________________________________________________________\n",
      "Layer (type)                 Output Shape              Param #   \n",
      "=================================================================\n",
      "batch_normalization_1 (Batch (None, 80, 160, 3)        12        \n",
      "_________________________________________________________________\n",
      "conv2d_7 (Conv2D)            (None, 78, 158, 2)        56        \n",
      "_________________________________________________________________\n",
      "conv2d_8 (Conv2D)            (None, 76, 156, 4)        76        \n",
      "_________________________________________________________________\n",
      "max_pooling2d_3 (MaxPooling2 (None, 38, 78, 4)         0         \n",
      "_________________________________________________________________\n",
      "conv2d_9 (Conv2D)            (None, 36, 76, 4)         148       \n",
      "_________________________________________________________________\n",
      "dropout_10 (Dropout)         (None, 36, 76, 4)         0         \n",
      "_________________________________________________________________\n",
      "conv2d_10 (Conv2D)           (None, 34, 74, 4)         148       \n",
      "_________________________________________________________________\n",
      "dropout_11 (Dropout)         (None, 34, 74, 4)         0         \n",
      "_________________________________________________________________\n",
      "conv2d_11 (Conv2D)           (None, 32, 72, 8)         296       \n",
      "_________________________________________________________________\n",
      "dropout_12 (Dropout)         (None, 32, 72, 8)         0         \n",
      "_________________________________________________________________\n",
      "max_pooling2d_4 (MaxPooling2 (None, 16, 36, 8)         0         \n",
      "_________________________________________________________________\n",
      "conv2d_12 (Conv2D)           (None, 14, 34, 16)        1168      \n",
      "_________________________________________________________________\n",
      "dropout_13 (Dropout)         (None, 14, 34, 16)        0         \n",
      "_________________________________________________________________\n",
      "conv2d_13 (Conv2D)           (None, 12, 32, 16)        2320      \n",
      "_________________________________________________________________\n",
      "dropout_14 (Dropout)         (None, 12, 32, 16)        0         \n",
      "_________________________________________________________________\n",
      "max_pooling2d_5 (MaxPooling2 (None, 6, 16, 16)         0         \n",
      "_________________________________________________________________\n",
      "up_sampling2d_3 (UpSampling2 (None, 12, 32, 16)        0         \n",
      "_________________________________________________________________\n",
      "conv2d_transpose_7 (Conv2DTr (None, 14, 34, 16)        2320      \n",
      "_________________________________________________________________\n",
      "dropout_15 (Dropout)         (None, 14, 34, 16)        0         \n",
      "_________________________________________________________________\n",
      "conv2d_transpose_8 (Conv2DTr (None, 16, 36, 16)        2320      \n",
      "_________________________________________________________________\n",
      "dropout_16 (Dropout)         (None, 16, 36, 16)        0         \n",
      "_________________________________________________________________\n",
      "up_sampling2d_4 (UpSampling2 (None, 32, 72, 16)        0         \n",
      "_________________________________________________________________\n",
      "conv2d_transpose_9 (Conv2DTr (None, 34, 74, 8)         1160      \n",
      "_________________________________________________________________\n",
      "dropout_17 (Dropout)         (None, 34, 74, 8)         0         \n",
      "_________________________________________________________________\n",
      "conv2d_transpose_10 (Conv2DT (None, 36, 76, 8)         584       \n",
      "_________________________________________________________________\n",
      "dropout_18 (Dropout)         (None, 36, 76, 8)         0         \n",
      "_________________________________________________________________\n",
      "conv2d_transpose_11 (Conv2DT (None, 38, 78, 4)         292       \n",
      "_________________________________________________________________\n",
      "dropout_19 (Dropout)         (None, 38, 78, 4)         0         \n",
      "_________________________________________________________________\n",
      "up_sampling2d_5 (UpSampling2 (None, 76, 156, 4)        0         \n",
      "_________________________________________________________________\n",
      "conv2d_transpose_12 (Conv2DT (None, 78, 158, 4)        148       \n",
      "_________________________________________________________________\n",
      "conv2d_transpose_13 (Conv2DT (None, 80, 160, 1)        37        \n",
      "=================================================================\n",
      "Total params: 11,085\n",
      "Trainable params: 0\n",
      "Non-trainable params: 11,085\n",
      "_________________________________________________________________\n"
     ]
    }
   ],
   "source": [
    "model1.trainable = False\n",
    "model1.compile(optimizer=optimizer1, loss=\"mean_squared_error\",metrics =['accuracy'])\n",
    "model1.save('full_CNN_model1.h5')\n",
    "# Show summary of model\n",
    "model1.summary()"
   ]
  },
  {
   "cell_type": "code",
   "execution_count": 20,
   "metadata": {},
   "outputs": [
    {
     "name": "stdout",
     "output_type": "stream",
     "text": [
      "Model: \"sequential_2\"\n",
      "_________________________________________________________________\n",
      "Layer (type)                 Output Shape              Param #   \n",
      "=================================================================\n",
      "batch_normalization_2 (Batch (None, 80, 160, 3)        12        \n",
      "_________________________________________________________________\n",
      "conv2d_14 (Conv2D)           (None, 78, 158, 2)        56        \n",
      "_________________________________________________________________\n",
      "conv2d_15 (Conv2D)           (None, 76, 156, 4)        76        \n",
      "_________________________________________________________________\n",
      "max_pooling2d_6 (MaxPooling2 (None, 38, 78, 4)         0         \n",
      "_________________________________________________________________\n",
      "conv2d_16 (Conv2D)           (None, 36, 76, 4)         148       \n",
      "_________________________________________________________________\n",
      "dropout_20 (Dropout)         (None, 36, 76, 4)         0         \n",
      "_________________________________________________________________\n",
      "conv2d_17 (Conv2D)           (None, 34, 74, 4)         148       \n",
      "_________________________________________________________________\n",
      "dropout_21 (Dropout)         (None, 34, 74, 4)         0         \n",
      "_________________________________________________________________\n",
      "conv2d_18 (Conv2D)           (None, 32, 72, 8)         296       \n",
      "_________________________________________________________________\n",
      "dropout_22 (Dropout)         (None, 32, 72, 8)         0         \n",
      "_________________________________________________________________\n",
      "max_pooling2d_7 (MaxPooling2 (None, 16, 36, 8)         0         \n",
      "_________________________________________________________________\n",
      "conv2d_19 (Conv2D)           (None, 14, 34, 16)        1168      \n",
      "_________________________________________________________________\n",
      "dropout_23 (Dropout)         (None, 14, 34, 16)        0         \n",
      "_________________________________________________________________\n",
      "conv2d_20 (Conv2D)           (None, 12, 32, 16)        2320      \n",
      "_________________________________________________________________\n",
      "dropout_24 (Dropout)         (None, 12, 32, 16)        0         \n",
      "_________________________________________________________________\n",
      "max_pooling2d_8 (MaxPooling2 (None, 6, 16, 16)         0         \n",
      "_________________________________________________________________\n",
      "up_sampling2d_6 (UpSampling2 (None, 12, 32, 16)        0         \n",
      "_________________________________________________________________\n",
      "conv2d_transpose_14 (Conv2DT (None, 14, 34, 16)        2320      \n",
      "_________________________________________________________________\n",
      "dropout_25 (Dropout)         (None, 14, 34, 16)        0         \n",
      "_________________________________________________________________\n",
      "conv2d_transpose_15 (Conv2DT (None, 16, 36, 16)        2320      \n",
      "_________________________________________________________________\n",
      "dropout_26 (Dropout)         (None, 16, 36, 16)        0         \n",
      "_________________________________________________________________\n",
      "up_sampling2d_7 (UpSampling2 (None, 32, 72, 16)        0         \n",
      "_________________________________________________________________\n",
      "conv2d_transpose_16 (Conv2DT (None, 34, 74, 8)         1160      \n",
      "_________________________________________________________________\n",
      "dropout_27 (Dropout)         (None, 34, 74, 8)         0         \n",
      "_________________________________________________________________\n",
      "conv2d_transpose_17 (Conv2DT (None, 36, 76, 8)         584       \n",
      "_________________________________________________________________\n",
      "dropout_28 (Dropout)         (None, 36, 76, 8)         0         \n",
      "_________________________________________________________________\n",
      "conv2d_transpose_18 (Conv2DT (None, 38, 78, 4)         292       \n",
      "_________________________________________________________________\n",
      "dropout_29 (Dropout)         (None, 38, 78, 4)         0         \n",
      "_________________________________________________________________\n",
      "up_sampling2d_8 (UpSampling2 (None, 76, 156, 4)        0         \n",
      "_________________________________________________________________\n",
      "conv2d_transpose_19 (Conv2DT (None, 78, 158, 4)        148       \n",
      "_________________________________________________________________\n",
      "conv2d_transpose_20 (Conv2DT (None, 80, 160, 1)        37        \n",
      "=================================================================\n",
      "Total params: 11,085\n",
      "Trainable params: 0\n",
      "Non-trainable params: 11,085\n",
      "_________________________________________________________________\n"
     ]
    }
   ],
   "source": [
    "model2.trainable = False\n",
    "model2.compile(optimizer=optimizer2, loss=\"mean_squared_error\",metrics =['accuracy'])\n",
    "model2.save('full_CNN_model2.h5')\n",
    "# Show summary of model\n",
    "model2.summary()"
   ]
  },
  {
   "cell_type": "code",
   "execution_count": 18,
   "metadata": {},
   "outputs": [
    {
     "name": "stdout",
     "output_type": "stream",
     "text": [
      "Model: \"sequential_3\"\n",
      "_________________________________________________________________\n",
      "Layer (type)                 Output Shape              Param #   \n",
      "=================================================================\n",
      "batch_normalization_3 (Batch (None, 80, 160, 3)        12        \n",
      "_________________________________________________________________\n",
      "conv2d_21 (Conv2D)           (None, 78, 158, 2)        56        \n",
      "_________________________________________________________________\n",
      "conv2d_22 (Conv2D)           (None, 76, 156, 4)        76        \n",
      "_________________________________________________________________\n",
      "max_pooling2d_9 (MaxPooling2 (None, 38, 78, 4)         0         \n",
      "_________________________________________________________________\n",
      "conv2d_23 (Conv2D)           (None, 36, 76, 4)         148       \n",
      "_________________________________________________________________\n",
      "dropout_30 (Dropout)         (None, 36, 76, 4)         0         \n",
      "_________________________________________________________________\n",
      "conv2d_24 (Conv2D)           (None, 34, 74, 4)         148       \n",
      "_________________________________________________________________\n",
      "dropout_31 (Dropout)         (None, 34, 74, 4)         0         \n",
      "_________________________________________________________________\n",
      "conv2d_25 (Conv2D)           (None, 32, 72, 8)         296       \n",
      "_________________________________________________________________\n",
      "dropout_32 (Dropout)         (None, 32, 72, 8)         0         \n",
      "_________________________________________________________________\n",
      "max_pooling2d_10 (MaxPooling (None, 16, 36, 8)         0         \n",
      "_________________________________________________________________\n",
      "conv2d_26 (Conv2D)           (None, 14, 34, 16)        1168      \n",
      "_________________________________________________________________\n",
      "dropout_33 (Dropout)         (None, 14, 34, 16)        0         \n",
      "_________________________________________________________________\n",
      "conv2d_27 (Conv2D)           (None, 12, 32, 16)        2320      \n",
      "_________________________________________________________________\n",
      "dropout_34 (Dropout)         (None, 12, 32, 16)        0         \n",
      "_________________________________________________________________\n",
      "max_pooling2d_11 (MaxPooling (None, 6, 16, 16)         0         \n",
      "_________________________________________________________________\n",
      "up_sampling2d_9 (UpSampling2 (None, 12, 32, 16)        0         \n",
      "_________________________________________________________________\n",
      "conv2d_transpose_21 (Conv2DT (None, 14, 34, 16)        2320      \n",
      "_________________________________________________________________\n",
      "dropout_35 (Dropout)         (None, 14, 34, 16)        0         \n",
      "_________________________________________________________________\n",
      "conv2d_transpose_22 (Conv2DT (None, 16, 36, 16)        2320      \n",
      "_________________________________________________________________\n",
      "dropout_36 (Dropout)         (None, 16, 36, 16)        0         \n",
      "_________________________________________________________________\n",
      "up_sampling2d_10 (UpSampling (None, 32, 72, 16)        0         \n",
      "_________________________________________________________________\n",
      "conv2d_transpose_23 (Conv2DT (None, 34, 74, 8)         1160      \n",
      "_________________________________________________________________\n",
      "dropout_37 (Dropout)         (None, 34, 74, 8)         0         \n",
      "_________________________________________________________________\n",
      "conv2d_transpose_24 (Conv2DT (None, 36, 76, 8)         584       \n",
      "_________________________________________________________________\n",
      "dropout_38 (Dropout)         (None, 36, 76, 8)         0         \n",
      "_________________________________________________________________\n",
      "conv2d_transpose_25 (Conv2DT (None, 38, 78, 4)         292       \n",
      "_________________________________________________________________\n",
      "dropout_39 (Dropout)         (None, 38, 78, 4)         0         \n",
      "_________________________________________________________________\n",
      "up_sampling2d_11 (UpSampling (None, 76, 156, 4)        0         \n",
      "_________________________________________________________________\n",
      "conv2d_transpose_26 (Conv2DT (None, 78, 158, 4)        148       \n",
      "_________________________________________________________________\n",
      "conv2d_transpose_27 (Conv2DT (None, 80, 160, 1)        37        \n",
      "=================================================================\n",
      "Total params: 11,085\n",
      "Trainable params: 0\n",
      "Non-trainable params: 11,085\n",
      "_________________________________________________________________\n"
     ]
    }
   ],
   "source": [
    "model3.trainable = False\n",
    "model3.compile(optimizer=optimizer, loss=\"mean_squared_error\",metrics =['accuracy'])\n",
    "model3.save('full_CNN_model3.h5')\n",
    "# Show summary of model\n",
    "model3.summary()"
   ]
  },
  {
   "cell_type": "code",
   "execution_count": 12,
   "metadata": {},
   "outputs": [
    {
     "name": "stdout",
     "output_type": "stream",
     "text": [
      "Model: \"sequential_4\"\n",
      "_________________________________________________________________\n",
      "Layer (type)                 Output Shape              Param #   \n",
      "=================================================================\n",
      "batch_normalization_4 (Batch (None, 80, 160, 3)        12        \n",
      "_________________________________________________________________\n",
      "conv2d_28 (Conv2D)           (None, 78, 158, 2)        56        \n",
      "_________________________________________________________________\n",
      "conv2d_29 (Conv2D)           (None, 76, 156, 4)        76        \n",
      "_________________________________________________________________\n",
      "max_pooling2d_12 (MaxPooling (None, 38, 78, 4)         0         \n",
      "_________________________________________________________________\n",
      "conv2d_30 (Conv2D)           (None, 36, 76, 4)         148       \n",
      "_________________________________________________________________\n",
      "dropout_40 (Dropout)         (None, 36, 76, 4)         0         \n",
      "_________________________________________________________________\n",
      "conv2d_31 (Conv2D)           (None, 34, 74, 4)         148       \n",
      "_________________________________________________________________\n",
      "dropout_41 (Dropout)         (None, 34, 74, 4)         0         \n",
      "_________________________________________________________________\n",
      "conv2d_32 (Conv2D)           (None, 32, 72, 8)         296       \n",
      "_________________________________________________________________\n",
      "dropout_42 (Dropout)         (None, 32, 72, 8)         0         \n",
      "_________________________________________________________________\n",
      "max_pooling2d_13 (MaxPooling (None, 16, 36, 8)         0         \n",
      "_________________________________________________________________\n",
      "conv2d_33 (Conv2D)           (None, 14, 34, 16)        1168      \n",
      "_________________________________________________________________\n",
      "dropout_43 (Dropout)         (None, 14, 34, 16)        0         \n",
      "_________________________________________________________________\n",
      "conv2d_34 (Conv2D)           (None, 12, 32, 16)        2320      \n",
      "_________________________________________________________________\n",
      "dropout_44 (Dropout)         (None, 12, 32, 16)        0         \n",
      "_________________________________________________________________\n",
      "max_pooling2d_14 (MaxPooling (None, 6, 16, 16)         0         \n",
      "_________________________________________________________________\n",
      "up_sampling2d_12 (UpSampling (None, 12, 32, 16)        0         \n",
      "_________________________________________________________________\n",
      "conv2d_transpose_28 (Conv2DT (None, 14, 34, 16)        2320      \n",
      "_________________________________________________________________\n",
      "dropout_45 (Dropout)         (None, 14, 34, 16)        0         \n",
      "_________________________________________________________________\n",
      "conv2d_transpose_29 (Conv2DT (None, 16, 36, 16)        2320      \n",
      "_________________________________________________________________\n",
      "dropout_46 (Dropout)         (None, 16, 36, 16)        0         \n",
      "_________________________________________________________________\n",
      "up_sampling2d_13 (UpSampling (None, 32, 72, 16)        0         \n",
      "_________________________________________________________________\n",
      "conv2d_transpose_30 (Conv2DT (None, 34, 74, 8)         1160      \n",
      "_________________________________________________________________\n",
      "dropout_47 (Dropout)         (None, 34, 74, 8)         0         \n",
      "_________________________________________________________________\n",
      "conv2d_transpose_31 (Conv2DT (None, 36, 76, 8)         584       \n",
      "_________________________________________________________________\n",
      "dropout_48 (Dropout)         (None, 36, 76, 8)         0         \n",
      "_________________________________________________________________\n",
      "conv2d_transpose_32 (Conv2DT (None, 38, 78, 4)         292       \n",
      "_________________________________________________________________\n",
      "dropout_49 (Dropout)         (None, 38, 78, 4)         0         \n",
      "_________________________________________________________________\n",
      "up_sampling2d_14 (UpSampling (None, 76, 156, 4)        0         \n",
      "_________________________________________________________________\n",
      "conv2d_transpose_33 (Conv2DT (None, 78, 158, 4)        148       \n",
      "_________________________________________________________________\n",
      "conv2d_transpose_34 (Conv2DT (None, 80, 160, 1)        37        \n",
      "=================================================================\n",
      "Total params: 11,085\n",
      "Trainable params: 0\n",
      "Non-trainable params: 11,085\n",
      "_________________________________________________________________\n"
     ]
    }
   ],
   "source": [
    "model4.trainable = False\n",
    "model4.compile(optimizer='Adam', loss=\"mean_squared_error\",metrics =['accuracy'])\n",
    "model4.save('C:/Users/vip/Documents/CESS/deep learning/labs/project/Baseline/full_CNN_model4.h5')\n",
    "# Show summary of model\n",
    "model4.summary()"
   ]
  },
  {
   "cell_type": "code",
   "execution_count": 13,
   "metadata": {},
   "outputs": [
    {
     "name": "stdout",
     "output_type": "stream",
     "text": [
      "Model: \"sequential_5\"\n",
      "_________________________________________________________________\n",
      "Layer (type)                 Output Shape              Param #   \n",
      "=================================================================\n",
      "batch_normalization_5 (Batch (None, 80, 160, 3)        12        \n",
      "_________________________________________________________________\n",
      "conv2d_35 (Conv2D)           (None, 78, 158, 2)        56        \n",
      "_________________________________________________________________\n",
      "conv2d_36 (Conv2D)           (None, 76, 156, 4)        76        \n",
      "_________________________________________________________________\n",
      "max_pooling2d_15 (MaxPooling (None, 38, 78, 4)         0         \n",
      "_________________________________________________________________\n",
      "conv2d_37 (Conv2D)           (None, 36, 76, 4)         148       \n",
      "_________________________________________________________________\n",
      "dropout_50 (Dropout)         (None, 36, 76, 4)         0         \n",
      "_________________________________________________________________\n",
      "conv2d_38 (Conv2D)           (None, 34, 74, 4)         148       \n",
      "_________________________________________________________________\n",
      "dropout_51 (Dropout)         (None, 34, 74, 4)         0         \n",
      "_________________________________________________________________\n",
      "conv2d_39 (Conv2D)           (None, 32, 72, 8)         296       \n",
      "_________________________________________________________________\n",
      "dropout_52 (Dropout)         (None, 32, 72, 8)         0         \n",
      "_________________________________________________________________\n",
      "max_pooling2d_16 (MaxPooling (None, 16, 36, 8)         0         \n",
      "_________________________________________________________________\n",
      "conv2d_40 (Conv2D)           (None, 14, 34, 16)        1168      \n",
      "_________________________________________________________________\n",
      "dropout_53 (Dropout)         (None, 14, 34, 16)        0         \n",
      "_________________________________________________________________\n",
      "conv2d_41 (Conv2D)           (None, 12, 32, 16)        2320      \n",
      "_________________________________________________________________\n",
      "dropout_54 (Dropout)         (None, 12, 32, 16)        0         \n",
      "_________________________________________________________________\n",
      "max_pooling2d_17 (MaxPooling (None, 6, 16, 16)         0         \n",
      "_________________________________________________________________\n",
      "up_sampling2d_15 (UpSampling (None, 12, 32, 16)        0         \n",
      "_________________________________________________________________\n",
      "conv2d_transpose_35 (Conv2DT (None, 14, 34, 16)        2320      \n",
      "_________________________________________________________________\n",
      "dropout_55 (Dropout)         (None, 14, 34, 16)        0         \n",
      "_________________________________________________________________\n",
      "conv2d_transpose_36 (Conv2DT (None, 16, 36, 16)        2320      \n",
      "_________________________________________________________________\n",
      "dropout_56 (Dropout)         (None, 16, 36, 16)        0         \n",
      "_________________________________________________________________\n",
      "up_sampling2d_16 (UpSampling (None, 32, 72, 16)        0         \n",
      "_________________________________________________________________\n",
      "conv2d_transpose_37 (Conv2DT (None, 34, 74, 8)         1160      \n",
      "_________________________________________________________________\n",
      "dropout_57 (Dropout)         (None, 34, 74, 8)         0         \n",
      "_________________________________________________________________\n",
      "conv2d_transpose_38 (Conv2DT (None, 36, 76, 8)         584       \n",
      "_________________________________________________________________\n",
      "dropout_58 (Dropout)         (None, 36, 76, 8)         0         \n",
      "_________________________________________________________________\n",
      "conv2d_transpose_39 (Conv2DT (None, 38, 78, 4)         292       \n",
      "_________________________________________________________________\n",
      "dropout_59 (Dropout)         (None, 38, 78, 4)         0         \n",
      "_________________________________________________________________\n",
      "up_sampling2d_17 (UpSampling (None, 76, 156, 4)        0         \n",
      "_________________________________________________________________\n",
      "conv2d_transpose_40 (Conv2DT (None, 78, 158, 4)        148       \n",
      "_________________________________________________________________\n",
      "conv2d_transpose_41 (Conv2DT (None, 80, 160, 1)        37        \n",
      "=================================================================\n",
      "Total params: 11,085\n",
      "Trainable params: 0\n",
      "Non-trainable params: 11,085\n",
      "_________________________________________________________________\n"
     ]
    }
   ],
   "source": [
    "model5.trainable = False\n",
    "model5.compile(optimizer='Adam', loss='mean_squared_error',metrics =['accuracy'])\n",
    "model5.save('C:/Users/vip/Documents/CESS/deep learning/labs/project/Baseline/full_CNN_model5.h5')\n",
    "# Show summary of model\n",
    "model5.summary()"
   ]
  }
 ],
 "metadata": {
  "kernelspec": {
   "display_name": "Python 3",
   "language": "python",
   "name": "python3"
  },
  "language_info": {
   "codemirror_mode": {
    "name": "ipython",
    "version": 3
   },
   "file_extension": ".py",
   "mimetype": "text/x-python",
   "name": "python",
   "nbconvert_exporter": "python",
   "pygments_lexer": "ipython3",
   "version": "3.8.5"
  }
 },
 "nbformat": 4,
 "nbformat_minor": 5
}
