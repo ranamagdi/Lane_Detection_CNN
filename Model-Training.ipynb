{
 "cells": [
  {
   "cell_type": "markdown",
   "metadata": {},
   "source": [
    "# Doing some Imports"
   ]
  },
  {
   "cell_type": "code",
   "execution_count": 2,
   "metadata": {},
   "outputs": [],
   "source": [
    "import numpy as np\n",
    "import pickle\n",
    "import tensorflow as tf\n",
    "import keras_tuner as kt\n",
    "from sklearn.utils import shuffle\n",
    "from sklearn.model_selection import train_test_split\n",
    "from keras_tuner import RandomSearch\n",
    "from tensorflow.keras.optimizers import Adam\n",
    "# Import necessary items from Keras\n",
    "from keras.models import Sequential\n",
    "from keras.layers import Activation, Dropout, UpSampling2D\n",
    "from keras.layers import Conv2DTranspose, Conv2D, MaxPooling2D\n",
    "#from keras.layers.normalization import BatchNormalization\n",
    "from tensorflow.keras.layers import (\n",
    "    BatchNormalization, SeparableConv2D, MaxPooling2D, Activation, Flatten, Dropout, Dense\n",
    ")\n",
    "from keras.preprocessing.image import ImageDataGenerator\n",
    "from keras import regularizers"
   ]
  },
  {
   "cell_type": "markdown",
   "metadata": {},
   "source": [
    "## Create your model"
   ]
  },
  {
   "cell_type": "code",
   "execution_count": 3,
   "metadata": {},
   "outputs": [],
   "source": [
    "def create_model(hp):\n",
    "    # Create the actual neural network here\n",
    "    hp_learning_rate = hp.Choice('learning_rate', values = [1e-2, 1e-3, 1e-4]) \n",
    "    model = Sequential()\n",
    "    # Normalizes incoming inputs. First layer needs the input shape to work\n",
    "    model.add(BatchNormalization(input_shape= X_train.shape[1:]))\n",
    "\n",
    "    # Below layers were re-named for easier reading of model summary; this not necessary\n",
    "    # Conv+Relu Layer 1\n",
    "    model.add(Conv2D(8, (3, 3), padding='same', strides=(1,1), activation = 'relu'))\n",
    "    # Conv+Relu Layer 2\n",
    "    model.add(Conv2D(8, (3, 3), padding='same', strides=(1,1), activation = 'relu'))\n",
    "    \n",
    "     # Pooling 1\n",
    "    model.add(MaxPooling2D(pool_size=(2, 2)))\n",
    "\n",
    "    # Conv+Relu Layer 3\n",
    "    model.add(Conv2D(16, (3, 3), padding='same', strides=(1,1), activation = 'relu')) \n",
    "    model.add(Dropout(0.2))\n",
    "\n",
    "    # Conv+Relu Layer 4\n",
    "    model.add(Conv2D(32, (3, 3), padding='same', strides=(1,1), activation = 'relu'))\n",
    "    model.add(Dropout(0.2))\n",
    "\n",
    "    # Conv+Relu Layer 5\n",
    "    model.add(Conv2D(32, (3, 3), padding='same', strides=(1,1), activation = 'relu'))\n",
    "    model.add(Dropout(0.2))\n",
    "\n",
    "    # Pooling 2\n",
    "    model.add(MaxPooling2D(pool_size=(2, 2)))\n",
    "\n",
    "    # Conv Layer 6\n",
    "    model.add(Conv2D(64, (3, 3), padding='same', strides=(1,1), activation = 'relu'))\n",
    "    model.add(Dropout(0.2))\n",
    "\n",
    "    # Conv Layer 7\n",
    "    model.add(Conv2D(64, (3, 3), padding='same', strides=(1,1), activation = 'relu'))\n",
    "    model.add(Dropout(0.2))\n",
    "\n",
    "    # Pooling 3\n",
    "    model.add(MaxPooling2D(pool_size=(2, 2)))\n",
    "\n",
    "    # Upsample 1\n",
    "    model.add(UpSampling2D(size=(2, 2)))\n",
    "\n",
    "    # Deconv+Relu 1\n",
    "    model.add(Conv2DTranspose(64, (3, 3), padding='same', strides=(1,1), activation = 'relu'))\n",
    "    model.add(Dropout(0.2))\n",
    "\n",
    "    # Deconv+Relu 2\n",
    "    model.add(Conv2DTranspose(64, (3, 3), padding='same', strides=(1,1), activation = 'relu'))\n",
    "    model.add(Dropout(0.2))\n",
    "\n",
    "    # Upsample 2\n",
    "    model.add(UpSampling2D(size=(2, 2)))\n",
    "\n",
    "    # Deconv+Relu 3\n",
    "    model.add(Conv2DTranspose(32, (3, 3), padding='same', strides=(1,1), activation = 'relu'))\n",
    "    model.add(Dropout(0.2))\n",
    "\n",
    "    # Deconv+Relu 4\n",
    "    model.add(Conv2DTranspose(32, (3, 3), padding='same', strides=(1,1), activation = 'relu'))\n",
    "    model.add(Dropout(0.2))\n",
    "\n",
    "    # Deconv+Relu 5\n",
    "    model.add(Conv2DTranspose(16, (3, 3), padding='same', strides=(1,1), activation = 'relu'))\n",
    "    model.add(Dropout(0.2))\n",
    "\n",
    "    # Upsample 3\n",
    "    model.add(UpSampling2D(size=(2, 2)))\n",
    "\n",
    "    # Deconv+Relu 6\n",
    "    model.add(Conv2DTranspose(16, (3, 3), padding='same', strides=(1,1), activation = 'relu'))\n",
    "\n",
    "    # Final layer - only including one channel so 1 filter\n",
    "    model.add(Conv2DTranspose(1, (3, 3), padding='same', strides=(1,1), activation = 'relu'))\n",
    "    model.compile(loss='mean_squared_error', optimizer=Adam(learning_rate=hp_learning_rate), metrics=['accuracy'])\n",
    "   \n",
    "    return model"
   ]
  },
  {
   "cell_type": "markdown",
   "metadata": {},
   "source": [
    "## Load the data"
   ]
  },
  {
   "cell_type": "code",
   "execution_count": 4,
   "metadata": {},
   "outputs": [],
   "source": [
    "# Load training images\n",
    "train_images = pickle.load(open(\"full_CNN_train.p\", \"rb\" ))\n",
    "\n",
    "# Load image labels\n",
    "labels = pickle.load(open(\"full_CNN_labels.p\", \"rb\" ))\n",
    "\n",
    "# Make into arrays as the neural network wants these\n",
    "train_images = np.array(train_images)\n",
    "labels = np.array(labels)\n"
   ]
  },
  {
   "cell_type": "markdown",
   "metadata": {},
   "source": [
    "## Preprocess the data"
   ]
  },
  {
   "cell_type": "code",
   "execution_count": 5,
   "metadata": {},
   "outputs": [],
   "source": [
    " # Normalize labels - training images get normalized to start in the network\n",
    "labels = labels / 255\n"
   ]
  },
  {
   "cell_type": "markdown",
   "metadata": {},
   "source": [
    "## Create the train and test splits"
   ]
  },
  {
   "cell_type": "code",
   "execution_count": 6,
   "metadata": {},
   "outputs": [],
   "source": [
    "# Shuffle images along with their labels, then split into training/validation sets\n",
    "train_images, labels = shuffle(train_images, labels)\n",
    "# Test size may be 10% or 20%\n",
    "X_train, X_val, y_train, y_val = train_test_split(train_images, labels, test_size=0.1)\n"
   ]
  },
  {
   "cell_type": "code",
   "execution_count": 12,
   "metadata": {},
   "outputs": [],
   "source": [
    "tuner = kt.RandomSearch(create_model,\n",
    "                        objective = 'val_accuracy', \n",
    "                        max_trials = 1,\n",
    "                        overwrite=True)\n",
    "    "
   ]
  },
  {
   "cell_type": "code",
   "execution_count": 13,
   "metadata": {},
   "outputs": [],
   "source": [
    "# Batch size, epochs and pool size below are all paramaters to fiddle with for optimization\n",
    "batch_size = 64\n",
    "epochs = 10\n",
    "#pool_size = (2, 2)\n",
    "#input_shape = X_train.shape[1:]"
   ]
  },
  {
   "cell_type": "code",
   "execution_count": 14,
   "metadata": {},
   "outputs": [],
   "source": [
    "# Create the neural network\n",
    "#model = create_model\n",
    "datagen = ImageDataGenerator()\n",
    "datagen.fit(X_train)\n"
   ]
  },
  {
   "cell_type": "code",
   "execution_count": null,
   "metadata": {},
   "outputs": [],
   "source": [
    "tuner.search(X_train, y_train, epochs = epochs,batch_size =batch_size , validation_data = (X_val, y_val))"
   ]
  },
  {
   "cell_type": "markdown",
   "metadata": {},
   "source": [
    "## Train your model"
   ]
  },
  {
   "cell_type": "code",
   "execution_count": 51,
   "metadata": {},
   "outputs": [
    {
     "ename": "SyntaxError",
     "evalue": "unexpected EOF while parsing (<ipython-input-51-8c9cb5e9eec2>, line 8)",
     "output_type": "error",
     "traceback": [
      "\u001b[1;36m  File \u001b[1;32m\"<ipython-input-51-8c9cb5e9eec2>\"\u001b[1;36m, line \u001b[1;32m8\u001b[0m\n\u001b[1;33m    \u001b[0m\n\u001b[1;37m    ^\u001b[0m\n\u001b[1;31mSyntaxError\u001b[0m\u001b[1;31m:\u001b[0m unexpected EOF while parsing\n"
     ]
    }
   ],
   "source": [
    "# TODO: Train your model\n",
    "\n",
    "# Compiling and training the model\n",
    "#model.compile(optimizer='Adam', loss='mean_squared_error')\n",
    "model.fit(datagen.flow(X_train, y_train, batch_size=batch_size), steps_per_epoch=len(X_train)/batch_size,\n",
    "#epochs=epochs, verbose=1, validation_data=(X_val, y_val))\n",
    "\n",
    "    "
   ]
  },
  {
   "cell_type": "code",
   "execution_count": 55,
   "metadata": {},
   "outputs": [
    {
     "name": "stdout",
     "output_type": "stream",
     "text": [
      "WARNING:tensorflow:Unresolved object in checkpoint: (root).optimizer.iter\n",
      "WARNING:tensorflow:Unresolved object in checkpoint: (root).optimizer.beta_1\n",
      "WARNING:tensorflow:Unresolved object in checkpoint: (root).optimizer.beta_2\n",
      "WARNING:tensorflow:Unresolved object in checkpoint: (root).optimizer.decay\n",
      "WARNING:tensorflow:Unresolved object in checkpoint: (root).optimizer.learning_rate\n",
      "WARNING:tensorflow:A checkpoint was restored (e.g. tf.train.Checkpoint.restore or tf.keras.Model.load_weights) but not all checkpointed values were used. See above for specific issues. Use expect_partial() on the load status object, e.g. tf.train.Checkpoint.restore(...).expect_partial(), to silence these warnings, or use assert_consumed() to make the check explicit. See https://www.tensorflow.org/guide/checkpoint#loading_mechanics for details.\n"
     ]
    }
   ],
   "source": [
    "# Freeze layers since training is done\n",
    "#tuner.trainable = False\n",
    "#model.compile(optimizer='Adam', loss='mean_squared_error')\n",
    "best_model = tuner.get_best_models(1)[0]\n",
    "# What were the best hyperparameters?\n",
    "best_hyperparameters = tuner.get_best_hyperparameters(1)[0] \n"
   ]
  },
  {
   "cell_type": "markdown",
   "metadata": {},
   "source": [
    "## Save your model"
   ]
  },
  {
   "cell_type": "code",
   "execution_count": 57,
   "metadata": {},
   "outputs": [
    {
     "name": "stdout",
     "output_type": "stream",
     "text": [
      "Model: \"sequential\"\n",
      "_________________________________________________________________\n",
      "Layer (type)                 Output Shape              Param #   \n",
      "=================================================================\n",
      "batch_normalization (BatchNo (None, 80, 160, 3)        12        \n",
      "_________________________________________________________________\n",
      "conv2d (Conv2D)              (None, 80, 160, 8)        224       \n",
      "_________________________________________________________________\n",
      "conv2d_1 (Conv2D)            (None, 80, 160, 8)        584       \n",
      "_________________________________________________________________\n",
      "max_pooling2d (MaxPooling2D) (None, 40, 80, 8)         0         \n",
      "_________________________________________________________________\n",
      "conv2d_2 (Conv2D)            (None, 40, 80, 16)        1168      \n",
      "_________________________________________________________________\n",
      "dropout (Dropout)            (None, 40, 80, 16)        0         \n",
      "_________________________________________________________________\n",
      "conv2d_3 (Conv2D)            (None, 40, 80, 32)        4640      \n",
      "_________________________________________________________________\n",
      "dropout_1 (Dropout)          (None, 40, 80, 32)        0         \n",
      "_________________________________________________________________\n",
      "conv2d_4 (Conv2D)            (None, 40, 80, 32)        9248      \n",
      "_________________________________________________________________\n",
      "dropout_2 (Dropout)          (None, 40, 80, 32)        0         \n",
      "_________________________________________________________________\n",
      "max_pooling2d_1 (MaxPooling2 (None, 20, 40, 32)        0         \n",
      "_________________________________________________________________\n",
      "conv2d_5 (Conv2D)            (None, 20, 40, 64)        18496     \n",
      "_________________________________________________________________\n",
      "dropout_3 (Dropout)          (None, 20, 40, 64)        0         \n",
      "_________________________________________________________________\n",
      "conv2d_6 (Conv2D)            (None, 20, 40, 64)        36928     \n",
      "_________________________________________________________________\n",
      "dropout_4 (Dropout)          (None, 20, 40, 64)        0         \n",
      "_________________________________________________________________\n",
      "max_pooling2d_2 (MaxPooling2 (None, 10, 20, 64)        0         \n",
      "_________________________________________________________________\n",
      "up_sampling2d (UpSampling2D) (None, 20, 40, 64)        0         \n",
      "_________________________________________________________________\n",
      "conv2d_transpose (Conv2DTran (None, 20, 40, 64)        36928     \n",
      "_________________________________________________________________\n",
      "dropout_5 (Dropout)          (None, 20, 40, 64)        0         \n",
      "_________________________________________________________________\n",
      "conv2d_transpose_1 (Conv2DTr (None, 20, 40, 64)        36928     \n",
      "_________________________________________________________________\n",
      "dropout_6 (Dropout)          (None, 20, 40, 64)        0         \n",
      "_________________________________________________________________\n",
      "up_sampling2d_1 (UpSampling2 (None, 40, 80, 64)        0         \n",
      "_________________________________________________________________\n",
      "conv2d_transpose_2 (Conv2DTr (None, 40, 80, 32)        18464     \n",
      "_________________________________________________________________\n",
      "dropout_7 (Dropout)          (None, 40, 80, 32)        0         \n",
      "_________________________________________________________________\n",
      "conv2d_transpose_3 (Conv2DTr (None, 40, 80, 32)        9248      \n",
      "_________________________________________________________________\n",
      "dropout_8 (Dropout)          (None, 40, 80, 32)        0         \n",
      "_________________________________________________________________\n",
      "conv2d_transpose_4 (Conv2DTr (None, 40, 80, 16)        4624      \n",
      "_________________________________________________________________\n",
      "dropout_9 (Dropout)          (None, 40, 80, 16)        0         \n",
      "_________________________________________________________________\n",
      "up_sampling2d_2 (UpSampling2 (None, 80, 160, 16)       0         \n",
      "_________________________________________________________________\n",
      "conv2d_transpose_5 (Conv2DTr (None, 80, 160, 16)       2320      \n",
      "_________________________________________________________________\n",
      "conv2d_transpose_6 (Conv2DTr (None, 80, 160, 1)        145       \n",
      "=================================================================\n",
      "Total params: 179,957\n",
      "Trainable params: 179,951\n",
      "Non-trainable params: 6\n",
      "_________________________________________________________________\n"
     ]
    }
   ],
   "source": [
    "# Save model architecture and weights\n",
    "best_model.save('full_CNN_model.h5')\n",
    "\n",
    "# Show summary of model\n",
    "best_model.summary()"
   ]
  }
 ],
 "metadata": {
  "kernelspec": {
   "display_name": "Python 3",
   "language": "python",
   "name": "python3"
  },
  "language_info": {
   "codemirror_mode": {
    "name": "ipython",
    "version": 3
   },
   "file_extension": ".py",
   "mimetype": "text/x-python",
   "name": "python",
   "nbconvert_exporter": "python",
   "pygments_lexer": "ipython3",
   "version": "3.8.5"
  }
 },
 "nbformat": 4,
 "nbformat_minor": 5
}
